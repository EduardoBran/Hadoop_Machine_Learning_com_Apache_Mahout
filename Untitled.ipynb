{
 "cells": [
  {
   "cell_type": "code",
   "execution_count": null,
   "id": "b64b6429-1324-4c02-aef1-6bf970297254",
   "metadata": {},
   "outputs": [],
   "source": []
  }
 ],
 "metadata": {
  "kernelspec": {
   "display_name": "",
   "name": ""
  },
  "language_info": {
   "name": ""
  }
 },
 "nbformat": 4,
 "nbformat_minor": 5
}
